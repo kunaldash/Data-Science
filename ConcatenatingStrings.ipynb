{
  "nbformat": 4,
  "nbformat_minor": 0,
  "metadata": {
    "colab": {
      "name": "Untitled1.ipynb",
      "provenance": [],
      "collapsed_sections": [],
      "authorship_tag": "ABX9TyP+LmTG/QJEX7vClP0CPXBD",
      "include_colab_link": true
    },
    "kernelspec": {
      "name": "python3",
      "display_name": "Python 3"
    }
  },
  "cells": [
    {
      "cell_type": "markdown",
      "metadata": {
        "id": "view-in-github",
        "colab_type": "text"
      },
      "source": [
        "<a href=\"https://colab.research.google.com/github/kunaldash/Data-Science/blob/master/ConcatenatingStrings.ipynb\" target=\"_parent\"><img src=\"https://colab.research.google.com/assets/colab-badge.svg\" alt=\"Open In Colab\"/></a>"
      ]
    },
    {
      "cell_type": "code",
      "metadata": {
        "id": "psxn6Uxp75aS",
        "colab_type": "code",
        "colab": {}
      },
      "source": [
        "spanish_greeting = \"Hola.\"\n",
        "spanish_greeting"
      ],
      "execution_count": 7,
      "outputs": []
    },
    {
      "cell_type": "code",
      "metadata": {
        "id": "JvRJknMV8WaC",
        "colab_type": "code",
        "colab": {
          "base_uri": "https://localhost:8080/",
          "height": 35
        },
        "outputId": "94bcbdc4-9388-4d5c-bd72-79401ad3fc91"
      },
      "source": [
        "arabic_greeting = \"Salaam\"\n",
        "arabic_greeting"
      ],
      "execution_count": 9,
      "outputs": [
        {
          "output_type": "execute_result",
          "data": {
            "application/vnd.google.colaboratory.intrinsic+json": {
              "type": "string"
            },
            "text/plain": [
              "'Salaam'"
            ]
          },
          "metadata": {
            "tags": []
          },
          "execution_count": 9
        }
      ]
    },
    {
      "cell_type": "code",
      "metadata": {
        "id": "PpIYirLw8uYC",
        "colab_type": "code",
        "colab": {}
      },
      "source": [
        "greeting = spanish_greeting + arabic_greeting"
      ],
      "execution_count": 10,
      "outputs": []
    },
    {
      "cell_type": "markdown",
      "metadata": {
        "id": "DZTCZEL4-td6",
        "colab_type": "text"
      },
      "source": [
        "The following bit of code shows how to concatenate strings"
      ]
    },
    {
      "cell_type": "code",
      "metadata": {
        "id": "hWICTJFM8_X0",
        "colab_type": "code",
        "colab": {
          "base_uri": "https://localhost:8080/",
          "height": 35
        },
        "outputId": "94fa3ec1-c817-4f59-ff4c-f4e47cb72652"
      },
      "source": [
        "print(greeting)"
      ],
      "execution_count": 11,
      "outputs": [
        {
          "output_type": "stream",
          "text": [
            "Hola.Salaam\n"
          ],
          "name": "stdout"
        }
      ]
    },
    {
      "cell_type": "markdown",
      "metadata": {
        "id": "iSNzj_5y9MDs",
        "colab_type": "text"
      },
      "source": [
        "The next bit of code shows how to repeat strings."
      ]
    },
    {
      "cell_type": "code",
      "metadata": {
        "id": "VIwU9zlY9R9G",
        "colab_type": "code",
        "colab": {
          "base_uri": "https://localhost:8080/",
          "height": 35
        },
        "outputId": "3b8b5da4-2c9f-4dba-cdf0-a6b73b97a1e9"
      },
      "source": [
        "print(greeting*2)"
      ],
      "execution_count": 14,
      "outputs": [
        {
          "output_type": "stream",
          "text": [
            "Hola.SalaamHola.Salaam\n"
          ],
          "name": "stdout"
        }
      ]
    }
  ]
}