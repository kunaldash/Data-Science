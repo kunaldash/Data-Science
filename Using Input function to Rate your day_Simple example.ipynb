{
  "nbformat": 4,
  "nbformat_minor": 0,
  "metadata": {
    "colab": {
      "name": "Untitled3.ipynb",
      "provenance": []
    },
    "kernelspec": {
      "name": "python3",
      "display_name": "Python 3"
    }
  },
  "cells": [
    {
      "cell_type": "code",
      "metadata": {
        "id": "Z3Y3KeOX05qe",
        "colab_type": "code",
        "colab": {
          "base_uri": "https://localhost:8080/",
          "height": 35
        },
        "outputId": "c365b52e-2e3e-46d9-b772-71608f6c60fb"
      },
      "source": [
        "'''Using the Input Function to Rate Your Day'''"
      ],
      "execution_count": 2,
      "outputs": [
        {
          "output_type": "execute_result",
          "data": {
            "application/vnd.google.colaboratory.intrinsic+json": {
              "type": "string"
            },
            "text/plain": [
              "'Using the Input Function to Rate Your Day'"
            ]
          },
          "metadata": {
            "tags": []
          },
          "execution_count": 2
        }
      ]
    },
    {
      "cell_type": "code",
      "metadata": {
        "id": "CiK2cDrUVTCP",
        "colab_type": "code",
        "colab": {}
      },
      "source": [
        ""
      ],
      "execution_count": null,
      "outputs": []
    },
    {
      "cell_type": "markdown",
      "metadata": {
        "id": "qpBP7gEKVcys",
        "colab_type": "text"
      },
      "source": [
        "The following steps are to to be illustrated:\n",
        "The steps are as follows:\n",
        "\n",
        "Display a question prompting the user to rate their day on a number scale of 1 to 10.\n",
        "Save the user's input as a variable.\n",
        "Display a statement to the user that includes the number."
      ]
    },
    {
      "cell_type": "code",
      "metadata": {
        "id": "rNQwUWcRVi07",
        "colab_type": "code",
        "colab": {}
      },
      "source": [
        "Dayrate = 'Please rate your day on a scale of 1 to 10 where 1 is the worst and 10 is the best:'"
      ],
      "execution_count": 3,
      "outputs": []
    },
    {
      "cell_type": "code",
      "metadata": {
        "id": "fBfPo11mV4JK",
        "colab_type": "code",
        "colab": {
          "base_uri": "https://localhost:8080/",
          "height": 35
        },
        "outputId": "c321f135-85de-4ad1-b81d-dcf300ac2273"
      },
      "source": [
        "Dayrate"
      ],
      "execution_count": 4,
      "outputs": [
        {
          "output_type": "execute_result",
          "data": {
            "application/vnd.google.colaboratory.intrinsic+json": {
              "type": "string"
            },
            "text/plain": [
              "'Please rate your day on a scale of 1 to 10 where 1 is the worst and 10 is the best:'"
            ]
          },
          "metadata": {
            "tags": []
          },
          "execution_count": 4
        }
      ]
    },
    {
      "cell_type": "code",
      "metadata": {
        "id": "JrRZtJKFV50l",
        "colab_type": "code",
        "colab": {
          "base_uri": "https://localhost:8080/",
          "height": 35
        },
        "outputId": "809cc3ad-cae0-455d-ad9c-543f8e38d2a4"
      },
      "source": [
        "print(Dayrate)"
      ],
      "execution_count": 5,
      "outputs": [
        {
          "output_type": "stream",
          "text": [
            "Please rate your day on a scale of 1 to 10 where 1 is the worst and 10 is the best:\n"
          ],
          "name": "stdout"
        }
      ]
    },
    {
      "cell_type": "code",
      "metadata": {
        "id": "8i_pAg7aW3mj",
        "colab_type": "code",
        "colab": {
          "base_uri": "https://localhost:8080/",
          "height": 35
        },
        "outputId": "ab78f4f0-73b0-457f-f045-ba121444985c"
      },
      "source": [
        "Iratemydayas = input()"
      ],
      "execution_count": 7,
      "outputs": [
        {
          "output_type": "stream",
          "text": [
            "6\n"
          ],
          "name": "stdout"
        }
      ]
    },
    {
      "cell_type": "code",
      "metadata": {
        "id": "q4lcn21_XDLB",
        "colab_type": "code",
        "colab": {
          "base_uri": "https://localhost:8080/",
          "height": 35
        },
        "outputId": "a80f3231-3e02-4010-a983-96b0da006969"
      },
      "source": [
        "print(Dayrate + Iratemydayas + '.')"
      ],
      "execution_count": 9,
      "outputs": [
        {
          "output_type": "stream",
          "text": [
            "Please rate your day on a scale of 1 to 10 where 1 is the worst and 10 is the best:6.\n"
          ],
          "name": "stdout"
        }
      ]
    }
  ]
}